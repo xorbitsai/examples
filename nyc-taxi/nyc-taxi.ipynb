{
 "cells": [
  {
   "cell_type": "markdown",
   "metadata": {
    "pycharm": {
     "name": "#%% md\n"
    }
   },
   "source": [
    "# Exploratory analysis using Xorbits over NYC taxi dataset\n",
    "Xorbits is a powerful tool for exploring and analyzing large datasets. One of the classic\n",
    "datasets for demonstrating the capabilities of Xorbits is the NYC taxi dataset, which\n",
    "contains records of taxi rides in the city from 2009 to 2022. In this blog, we will\n",
    "show you how to use Xorbits to do some initial exploration of the NYC taxi dataset and get\n",
    "a sense of the ease-of-use of Xorbits.\n",
    "\n",
    "## Software versions\n",
    "- Xorbits>=0.1.2\n",
    "- plotly==5.11.0"
   ]
  },
  {
   "cell_type": "code",
   "execution_count": null,
   "metadata": {
    "pycharm": {
     "name": "#%%\n"
    }
   },
   "outputs": [],
   "source": [
    "# Install dependencies\n",
    "%pip install xorbits>=0.1.2 plotly==5.11.0 pyarrow"
   ]
  },
  {
   "cell_type": "markdown",
   "metadata": {
    "pycharm": {
     "name": "#%% md\n"
    }
   },
   "source": [
    "## Datasets\n",
    "- [TLC Trip Record Data](https://www.nyc.gov/site/tlc/about/tlc-trip-record-data.page)\n",
    "- [NYC Taxi Zones](https://data.cityofnewyork.us/Transportation/NYC-Taxi-Zones/d3c5-ddgc)\n",
    "\n",
    "Download the taxi zone geojson:"
   ]
  },
  {
   "cell_type": "code",
   "execution_count": null,
   "metadata": {
    "collapsed": false,
    "jupyter": {
     "outputs_hidden": false
    },
    "pycharm": {
     "is_executing": true,
     "name": "#%%\n"
    }
   },
   "outputs": [],
   "source": [
    "%%bash\n",
    "wget https://d37ci6vzurychx.cloudfront.net/misc/taxi+_zone_lookup.csv\n",
    "wget https://data.cityofnewyork.us/api/geospatial/d3c5-ddgc\\?method\\=export\\&format\\=GeoJSON -O taxi_zones.geojson"
   ]
  },
  {
   "cell_type": "markdown",
   "metadata": {
    "pycharm": {
     "name": "#%% md\n"
    }
   },
   "source": [
    "You can start with yellow taxi trip records of a month:"
   ]
  },
  {
   "cell_type": "code",
   "execution_count": null,
   "metadata": {
    "collapsed": false,
    "jupyter": {
     "outputs_hidden": false
    },
    "pycharm": {
     "is_executing": true,
     "name": "#%%\n"
    }
   },
   "outputs": [],
   "source": [
    "%%bash\n",
    "wget https://d37ci6vzurychx.cloudfront.net/trip-data/yellow_tripdata_2021-12.parquet"
   ]
  },
  {
   "cell_type": "markdown",
   "metadata": {
    "pycharm": {
     "name": "#%% md\n"
    }
   },
   "source": [
    "You can also use records of a year:"
   ]
  },
  {
   "cell_type": "code",
   "execution_count": null,
   "metadata": {
    "collapsed": false,
    "jupyter": {
     "outputs_hidden": false
    },
    "pycharm": {
     "is_executing": true,
     "name": "#%%\n"
    }
   },
   "outputs": [],
   "source": [
    "%%bash\n",
    "for i in {1..12}\n",
    "do\n",
    "    wget https://d37ci6vzurychx.cloudfront.net/trip-data/yellow_tripdata_2021-$(printf \"%02d\" $i).parquet\n",
    "done"
   ]
  },
  {
   "cell_type": "code",
   "execution_count": null,
   "metadata": {
    "collapsed": false,
    "jupyter": {
     "outputs_hidden": false
    },
    "pycharm": {
     "is_executing": true,
     "name": "#%%\n"
    }
   },
   "outputs": [],
   "source": [
    "%%bash\n",
    "mkdir yellow_tripdata_2021\n",
    "mv yellow_tripdata_2021-*.parquet yellow_tripdata_2021"
   ]
  },
  {
   "cell_type": "markdown",
   "metadata": {
    "pycharm": {
     "name": "#%% md\n"
    }
   },
   "source": [
    "## Initialization\n",
    "The first step is to initialize Xorbits:"
   ]
  },
  {
   "cell_type": "code",
   "execution_count": null,
   "metadata": {
    "collapsed": false,
    "jupyter": {
     "outputs_hidden": false
    },
    "pycharm": {
     "is_executing": true,
     "name": "#%%\n"
    }
   },
   "outputs": [],
   "source": [
    "import xorbits\n",
    "\n",
    "# Initialize Xorbits in the local environment.\n",
    "xorbits.init()"
   ]
  },
  {
   "cell_type": "markdown",
   "metadata": {
    "pycharm": {
     "name": "#%% md\n"
    }
   },
   "source": [
    "## Data loading\n",
    "The second step is to load the data into an Xorbits DataFrame. This can be done using the\n",
    "`read_parquet()` function, which allows us to specify the location of the parquet file and\n",
    "any additional options we want to use while reading the data.\n",
    "\n",
    "\n",
    "In the case of the NYC taxi dataset, here is an example of how we could do this using\n",
    "Xorbits:"
   ]
  },
  {
   "cell_type": "code",
   "execution_count": null,
   "metadata": {
    "collapsed": false,
    "jupyter": {
     "outputs_hidden": false
    },
    "pycharm": {
     "name": "#%%\n"
    }
   },
   "outputs": [],
   "source": [
    "import datetime\n",
    "import xorbits.pandas as pd\n",
    "\n",
    "trips = pd.read_parquet(\n",
    "    'yellow_tripdata_2021',\n",
    "    columns=[\n",
    "        'tpep_pickup_datetime',\n",
    "        'tpep_dropoff_datetime',\n",
    "        'trip_distance',\n",
    "        'PULocationID',\n",
    "        'DOLocationID',\n",
    "    ])\n",
    "# Remove outliers.\n",
    "trips = trips[(trips['tpep_pickup_datetime'] >= datetime.datetime(2021, 1, 1)) & (trips['tpep_pickup_datetime'] <= datetime.datetime(2021, 12, 31))]\n",
    "trips"
   ]
  },
  {
   "cell_type": "code",
   "execution_count": null,
   "metadata": {
    "collapsed": false,
    "jupyter": {
     "outputs_hidden": false
    },
    "pycharm": {
     "name": "#%%\n"
    }
   },
   "outputs": [],
   "source": [
    "taxi_zones = pd.read_csv('taxi+_zone_lookup.csv', usecols=['LocationID', 'Zone'])\n",
    "taxi_zones.set_index(['LocationID'], inplace=True)\n",
    "taxi_zones"
   ]
  },
  {
   "cell_type": "code",
   "execution_count": null,
   "metadata": {
    "collapsed": false,
    "jupyter": {
     "outputs_hidden": false
    },
    "pycharm": {
     "name": "#%%\n"
    }
   },
   "outputs": [],
   "source": [
    "import json\n",
    "with open('taxi_zones.geojson') as fd:\n",
    "    geojson = json.load(fd)"
   ]
  },
  {
   "cell_type": "markdown",
   "metadata": {
    "pycharm": {
     "name": "#%% md\n"
    }
   },
   "source": [
    "Once we have the data loaded into a DataFrame, we might want to get a sense of the\n",
    "overall structure of the data by looking at the number of rows and columns, the data types\n",
    "of each column, and the first few rows of the data. We can do this using the shape, dtypes,\n",
    "and head() attributes, respectively:"
   ]
  },
  {
   "cell_type": "code",
   "execution_count": null,
   "metadata": {
    "collapsed": false,
    "jupyter": {
     "outputs_hidden": false
    },
    "pycharm": {
     "name": "#%%\n"
    }
   },
   "outputs": [],
   "source": [
    "trips.shape"
   ]
  },
  {
   "cell_type": "code",
   "execution_count": null,
   "metadata": {
    "collapsed": false,
    "jupyter": {
     "outputs_hidden": false
    },
    "pycharm": {
     "name": "#%%\n"
    }
   },
   "outputs": [],
   "source": [
    "trips.dtypes"
   ]
  },
  {
   "cell_type": "code",
   "execution_count": null,
   "metadata": {
    "collapsed": false,
    "jupyter": {
     "outputs_hidden": false
    },
    "pycharm": {
     "name": "#%%\n"
    }
   },
   "outputs": [],
   "source": [
    "trips.head()"
   ]
  },
  {
   "cell_type": "markdown",
   "metadata": {
    "pycharm": {
     "name": "#%% md\n"
    }
   },
   "source": [
    "## Temporal Analysis\n",
    "One way to analyze the NYC taxi dataset is to look at how the number of rides varies over\n",
    "time. A particularly intriguing analysis involves finding out the number of rides per hour\n",
    "of each week day. We can create two additional columns in the DataFrame representing the\n",
    "pickup hour and day of the week. We can then group the data by day of the week and hour\n",
    "using the `groupby` method and calculate the number of rides for each group."
   ]
  },
  {
   "cell_type": "code",
   "execution_count": null,
   "metadata": {
    "collapsed": false,
    "jupyter": {
     "outputs_hidden": false
    },
    "pycharm": {
     "name": "#%%\n"
    }
   },
   "outputs": [],
   "source": [
    "trips['PU_dayofweek'] = trips['tpep_pickup_datetime'].dt.dayofweek\n",
    "trips['PU_hour'] = trips['tpep_pickup_datetime'].dt.hour\n",
    "gb_time = trips.groupby(by=['PU_dayofweek', 'PU_hour'], as_index=False).agg(count=('PU_dayofweek', 'count'))\n",
    "gb_time"
   ]
  },
  {
   "cell_type": "markdown",
   "metadata": {
    "pycharm": {
     "name": "#%% md\n"
    }
   },
   "source": [
    "We can then use a library like plotly to visualize the time series data. The graph below displays\n",
    "the number of rides per hour. From the graph, it is apparent that people are more inclined to\n",
    "travel in the afternoon. Additionally, on weekends, people generally tend to stay out late."
   ]
  },
  {
   "cell_type": "code",
   "execution_count": null,
   "metadata": {
    "collapsed": false,
    "jupyter": {
     "outputs_hidden": false
    },
    "pycharm": {
     "name": "#%%\n"
    }
   },
   "outputs": [],
   "source": [
    "import plotly.express as px\n",
    "\n",
    "b = px.bar(\n",
    "    gb_time.to_pandas(),\n",
    "    x='PU_hour',\n",
    "    y='count',\n",
    "    color='PU_dayofweek',\n",
    "    color_continuous_scale='sunset_r',\n",
    ")\n",
    "b.show()"
   ]
  },
  {
   "cell_type": "markdown",
   "metadata": {
    "pycharm": {
     "name": "#%% md\n"
    }
   },
   "source": [
    "The graph below displays the number of rides for each day of the week."
   ]
  },
  {
   "cell_type": "code",
   "execution_count": null,
   "metadata": {
    "collapsed": false,
    "jupyter": {
     "outputs_hidden": false
    },
    "pycharm": {
     "name": "#%%\n"
    }
   },
   "outputs": [],
   "source": [
    "b = px.bar(\n",
    "    gb_time.to_pandas(),\n",
    "    x='PU_dayofweek',\n",
    "    y='count',\n",
    "    color='PU_hour',\n",
    "    color_continuous_scale='sunset_r',\n",
    ")\n",
    "b.show()"
   ]
  },
  {
   "cell_type": "markdown",
   "metadata": {
    "pycharm": {
     "name": "#%% md\n"
    }
   },
   "source": [
    "## Spatial Analysis\n",
    "Another way to analyze the NYC taxi dataset is to look at patterns in the spatial distribution of\n",
    "rides. We can use the `groupby` method to group the data by pick-up and drop-off location ID and\n",
    "compute the count of rides for each group:"
   ]
  },
  {
   "cell_type": "code",
   "execution_count": null,
   "metadata": {
    "pycharm": {
     "name": "#%%\n"
    }
   },
   "outputs": [],
   "source": [
    "gb_pu_location = trips.groupby(['PULocationID'], as_index=False).agg(count=('PULocationID', 'count'))\n",
    "gb_pu_location = gb_pu_location.to_pandas()\n",
    "gb_pu_location"
   ]
  },
  {
   "cell_type": "markdown",
   "metadata": {
    "pycharm": {
     "name": "#%% md\n"
    }
   },
   "source": [
    "Then visualize the spatial distribution of pick-up locations:"
   ]
  },
  {
   "cell_type": "code",
   "execution_count": null,
   "metadata": {
    "pycharm": {
     "name": "#%%\n"
    }
   },
   "outputs": [],
   "source": [
    "import plotly.graph_objects as go\n",
    "\n",
    "fig = go.Figure(\n",
    "    go.Choroplethmapbox(\n",
    "        geojson=geojson,\n",
    "        featureidkey='properties.location_id',\n",
    "        locations=gb_pu_location['PULocationID'],\n",
    "        z=gb_pu_location['count'],\n",
    "        colorscale=\"Viridis\",\n",
    "        marker_opacity=0.7,\n",
    "        marker_line_width=0.1\n",
    "    )\n",
    ")\n",
    "fig.update_layout(\n",
    "    mapbox_style=\"carto-positron\",\n",
    "    mapbox_zoom=9,\n",
    "    mapbox_center = {\"lat\": 40.7158, \"lon\": -73.9805},\n",
    "    height=600,\n",
    ")\n",
    "fig.show()"
   ]
  },
  {
   "cell_type": "markdown",
   "metadata": {
    "pycharm": {
     "name": "#%% md\n"
    }
   },
   "source": [
    "We can also group the data by drop-off location ID:"
   ]
  },
  {
   "cell_type": "code",
   "execution_count": null,
   "metadata": {
    "collapsed": false,
    "jupyter": {
     "outputs_hidden": false
    },
    "pycharm": {
     "name": "#%%\n"
    }
   },
   "outputs": [],
   "source": [
    "gb_do_location = trips.groupby(['DOLocationID'], as_index=False).agg(count=('DOLocationID', 'count'))\n",
    "gb_do_location = gb_do_location.to_pandas()\n",
    "gb_do_location"
   ]
  },
  {
   "cell_type": "markdown",
   "metadata": {
    "pycharm": {
     "name": "#%% md\n"
    }
   },
   "source": [
    "Then visualize the spatial distribution of drop-off locations:"
   ]
  },
  {
   "cell_type": "code",
   "execution_count": null,
   "metadata": {
    "collapsed": false,
    "jupyter": {
     "outputs_hidden": false
    },
    "pycharm": {
     "name": "#%%\n"
    }
   },
   "outputs": [],
   "source": [
    "fig = go.Figure(\n",
    "    go.Choroplethmapbox(\n",
    "        geojson=geojson,\n",
    "        featureidkey='properties.location_id',\n",
    "        locations=gb_do_location['DOLocationID'],\n",
    "        z=gb_do_location['count'],\n",
    "        colorscale=\"Viridis\",\n",
    "        marker_opacity=0.7,\n",
    "        marker_line_width=0.1\n",
    "    )\n",
    ")\n",
    "fig.update_layout(\n",
    "    mapbox_style=\"carto-positron\",\n",
    "    mapbox_zoom=9,\n",
    "    mapbox_center = {\"lat\": 40.7158, \"lon\": -73.9805},\n",
    "    height=600,\n",
    ")\n",
    "fig.show()"
   ]
  },
  {
   "cell_type": "markdown",
   "metadata": {
    "pycharm": {
     "name": "#%% md\n"
    }
   },
   "source": [
    "Another area that we can explore is the traffic between taxi zones:"
   ]
  },
  {
   "cell_type": "code",
   "execution_count": null,
   "metadata": {
    "collapsed": false,
    "jupyter": {
     "outputs_hidden": false
    },
    "pycharm": {
     "name": "#%%\n"
    }
   },
   "outputs": [],
   "source": [
    "gb_pu_do_location = trips.groupby(['PULocationID', 'DOLocationID'], as_index=False).agg(count=('PULocationID', 'count'))\n",
    "\n",
    "# Add zone names.\n",
    "gb_pu_do_location = gb_pu_do_location.merge(taxi_zones, left_on='PULocationID', right_index=True)\n",
    "gb_pu_do_location.rename(columns={'Zone': 'PUZone'}, inplace=True)\n",
    "gb_pu_do_location = gb_pu_do_location.merge(taxi_zones, left_on='DOLocationID', right_index=True)\n",
    "gb_pu_do_location.rename(columns={'Zone': 'DOZone'}, inplace=True)\n",
    "\n",
    "gb_pu_do_location.sort_values(['count'], inplace=True, ascending=False)\n",
    "gb_pu_do_location"
   ]
  },
  {
   "cell_type": "markdown",
   "metadata": {},
   "source": [
    "## Conclusion\n",
    "In conclusion, Xorbits is an incredibly powerful tool for exploring and analyzing large datasets, \n",
    "as demonstrated by its use with the NYC taxi dataset. By following the steps outlined in this blog,\n",
    "you can gain a better understanding of the capabilities of Xorbits, its ease-of-use, and how it can\n",
    "be integrated with other Python libraries to streamline your data analysis workflow.\n"
   ]
  }
 ],
 "metadata": {
  "kernelspec": {
   "display_name": "Python 3 (ipykernel)",
   "language": "python",
   "name": "python3"
  },
  "language_info": {
   "codemirror_mode": {
    "name": "ipython",
    "version": 3
   },
   "file_extension": ".py",
   "mimetype": "text/x-python",
   "name": "python",
   "nbconvert_exporter": "python",
   "pygments_lexer": "ipython3",
   "version": "3.10.4"
  }
 },
 "nbformat": 4,
 "nbformat_minor": 4
}
