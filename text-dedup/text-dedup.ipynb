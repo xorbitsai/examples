{
 "cells": [
  {
   "attachments": {},
   "cell_type": "markdown",
   "metadata": {},
   "source": [
    "# Text Deduplication using Xorbits over OSCAR Corpus\n",
    "In this notebook, we will demonstrate how to use Xorbits to perform text deduplication over the OSCAR corpus. The OSCAR corpus is a massive multilingual corpus obtained by language classification and filtering of the Common Crawl corpus using the GPT-2 model. The OSCAR corpus is available for multiple languages and we will use the Galician (gl) dataset in this example.\n",
    "\n",
    "## Software versions\n",
    "* xorbits>=0.4.4\n",
    "* datasets==2.13.1"
   ]
  },
  {
   "cell_type": "code",
   "execution_count": null,
   "metadata": {},
   "outputs": [],
   "source": [
    "# Install dependencies\n",
    "%pip install xorbits>=0.4.4 datasets==2.13.1"
   ]
  },
  {
   "attachments": {},
   "cell_type": "markdown",
   "metadata": {},
   "source": [
    "## Dataset\n",
    "[OSCAR Corpus 2201](https://huggingface.co/datasets/oscar-corpus/OSCAR-2201)\n",
    "First, we need to download and load the Galician (gl) dataset from the OSCAR corpus:"
   ]
  },
  {
   "cell_type": "code",
   "execution_count": null,
   "metadata": {},
   "outputs": [],
   "source": [
    "from datasets import load_dataset\n",
    "\n",
    "data = load_dataset(\"oscar-corpus/OSCAR-2201\",\n",
    "                    use_auth_token=True,\n",
    "                    language=\"gl\", \n",
    "                    split=\"train\")"
   ]
  },
  {
   "attachments": {},
   "cell_type": "markdown",
   "metadata": {},
   "source": [
    "## Data loading\n",
    "The second step is to load the data into an Xorbits DataFrame. This can be done using the DataFrame constructor, which allows us to specify the data and the chunk size:"
   ]
  },
  {
   "cell_type": "code",
   "execution_count": null,
   "metadata": {},
   "outputs": [],
   "source": [
    "import xorbits.pandas as pd\n",
    "\n",
    "df = pd.DataFrame(data.to_pandas(), chunk_size=1000)"
   ]
  },
  {
   "attachments": {},
   "cell_type": "markdown",
   "metadata": {},
   "source": [
    "Once we have the data loaded into a DataFrame, we might want to get a sense of the overall structure of the data by looking at the number of rows and columns, the data types of each column, and the first few rows of the data. We can do this using the shape, dtypes, and head() attributes, respectively:"
   ]
  },
  {
   "cell_type": "code",
   "execution_count": null,
   "metadata": {},
   "outputs": [],
   "source": [
    "df.shape\n",
    "df.dtypes\n",
    "df.head()"
   ]
  },
  {
   "attachments": {},
   "cell_type": "markdown",
   "metadata": {},
   "source": [
    "## Text Deduplication\n",
    "We can perform text deduplication using the dedup() function from the xorbits.experimental module. This function takes a DataFrame and a column name as arguments and returns a DataFrame with duplicate rows removed:"
   ]
  },
  {
   "cell_type": "code",
   "execution_count": null,
   "metadata": {},
   "outputs": [],
   "source": [
    "from xorbits.experimental import dedup\n",
    "\n",
    "res = dedup(df, col=\"text\")"
   ]
  },
  {
   "attachments": {},
   "cell_type": "markdown",
   "metadata": {},
   "source": [
    "## Analysis\n",
    "Let's see the result and the number of duplicated texts removed:"
   ]
  },
  {
   "cell_type": "code",
   "execution_count": null,
   "metadata": {},
   "outputs": [],
   "source": [
    "print(res)\n",
    "print(\"Number of duplicated texts removed: \", df.shape[0] - res.shape[0])"
   ]
  },
  {
   "attachments": {},
   "cell_type": "markdown",
   "metadata": {},
   "source": [
    "## Conclusion\n",
    "In conclusion, Xorbits is an incredibly powerful tool for exploring and analyzing large datasets, as demonstrated by its use with the OSCAR corpus for text deduplication. By following the steps outlined in this notebook, you can gain a better understanding of the capabilities of Xorbits, its ease-of-use, and how it can be integrated with other Python libraries to streamline your data analysis workflow."
   ]
  }
 ],
 "metadata": {
  "language_info": {
   "name": "python"
  },
  "orig_nbformat": 4
 },
 "nbformat": 4,
 "nbformat_minor": 2
}
